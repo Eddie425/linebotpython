{
 "cells": [
  {
   "cell_type": "code",
   "execution_count": 6,
   "metadata": {},
   "outputs": [
    {
     "name": "stdout",
     "output_type": "stream",
     "text": [
      "[('user_id', 'integer'), ('user_name', 'character varying'), ('password', 'character varying'), ('email', 'character varying'), ('cell_phone', 'character varying'), ('gender', 'character varying'), ('address', 'character varying'), ('birth_date', 'character varying'), ('line_id', 'character varying'), ('fb_id', 'character varying'), ('last_login', 'timestamp without time zone')]\n"
     ]
    }
   ],
   "source": [
    "import os\n",
    "import psycopg2\n",
    "\n",
    "DATABASE_URL = os.popen('heroku config:get DATABASE_URL -a lineboteddie').read()[:-1]\n",
    "\n",
    "conn = psycopg2.connect(DATABASE_URL, sslmode='require')\n",
    "cursor = conn.cursor()\n",
    "\n",
    "create_user_table = '''CREATE TABLE user_account(\n",
    "           user_id serial PRIMARY KEY,\n",
    "           user_name VARCHAR (50) NOT NULL,\n",
    "           password VARCHAR (50) NOT NULL,\n",
    "           email VARCHAR (355) UNIQUE NOT NULL,\n",
    "           cell_phone VARCHAR (50) NOT NULL,\n",
    "           gender VARCHAR (4),\n",
    "           address VARCHAR (50),\n",
    "           birth_date VARCHAR (8),\n",
    "           line_id VARCHAR (50),\n",
    "           fb_id VARCHAR (50),\n",
    "           last_login TIMESTAMP\n",
    "        );'''\n",
    "\n",
    "select_user_table = \"SELECT column_name, data_type FROM information_schema.columns WHERE table_name = 'user_account'\"\n",
    "    \n",
    "cursor.execute(select_user_table)\n",
    "data = []\n",
    "while True:\n",
    "    temp = cursor.fetchone()\n",
    "    if temp:\n",
    "        data.append(temp)\n",
    "    else:\n",
    "        break\n",
    "print(data)\n",
    "conn.commit()\n",
    "\n",
    "cursor.close()\n",
    "conn.close()"
   ]
  },
  {
   "cell_type": "code",
   "execution_count": 16,
   "metadata": {},
   "outputs": [
    {
     "name": "stdout",
     "output_type": "stream",
     "text": [
      "current_time = 21:41:04\n",
      "2 Record inserted Success\n"
     ]
    }
   ],
   "source": [
    "import os\n",
    "import psycopg2\n",
    "\n",
    "from datetime import datetime\n",
    "\n",
    "now = datetime.now()\n",
    "\n",
    "current_time = now.strftime(\"%H:%M:%S\")\n",
    "\n",
    "print(\"current_time = \" + current_time)\n",
    "\n",
    "DATABASE_URL = os.popen('heroku config:get DATABASE_URL -a lineboteddie').read()[:-1]\n",
    "\n",
    "conn = psycopg2.connect(DATABASE_URL, sslmode='require')\n",
    "cursor = conn.cursor()\n",
    "\n",
    "records = [('Eddie', 'wawa', 'eddie.chang425@gmail.com', '0975170107', 'M', '新北市中和區', '19870425', 'eddie425', 'eddie', now),\n",
    "          ('Rickle', 'wawa', 'rickle1226@gmail.com', '0974232323', 'M', '新北市中和區', '19871225', 'rickle', 'rickel', now)]\n",
    "\n",
    "table_columns = '(user_name, password, email, cell_phone, gender, address, birth_date, line_id, fb_id, last_login)'\n",
    "postgres_insert_query = f\"\"\"INSERT INTO user_account {table_columns} \n",
    "VALUES (%s, %s, %s, %s, %s, %s, %s, %s, %s, %s);\"\"\"\n",
    "\n",
    "    \n",
    "cursor.executemany(postgres_insert_query, records)\n",
    "conn.commit()\n",
    "\n",
    "count = cursor.rowcount\n",
    "print(count, \"Record inserted Success\")\n",
    "\n",
    "cursor.close()\n",
    "conn.close()"
   ]
  },
  {
   "cell_type": "code",
   "execution_count": 18,
   "metadata": {},
   "outputs": [
    {
     "data": {
      "text/plain": [
       "[(2,\n",
       "  'Zoe',\n",
       "  'wawa',\n",
       "  'zoe19910712@gmail.com',\n",
       "  '0973035743',\n",
       "  'F',\n",
       "  '新北市中和區',\n",
       "  '19910712',\n",
       "  'zoe',\n",
       "  'zoe',\n",
       "  datetime.datetime(2020, 8, 9, 21, 37, 35, 190259)),\n",
       " (3,\n",
       "  'Eddie',\n",
       "  'wawa',\n",
       "  'eddie.chang425@gmail.com',\n",
       "  '0975170107',\n",
       "  'M',\n",
       "  '新北市中和區',\n",
       "  '19870425',\n",
       "  'eddie425',\n",
       "  'eddie',\n",
       "  datetime.datetime(2020, 8, 9, 21, 41, 4, 809551)),\n",
       " (4,\n",
       "  'Rickle',\n",
       "  'wawa',\n",
       "  'rickle1226@gmail.com',\n",
       "  '0974232323',\n",
       "  'M',\n",
       "  '新北市中和區',\n",
       "  '19871225',\n",
       "  'rickle',\n",
       "  'rickel',\n",
       "  datetime.datetime(2020, 8, 9, 21, 41, 4, 809551))]"
      ]
     },
     "execution_count": 18,
     "metadata": {},
     "output_type": "execute_result"
    }
   ],
   "source": [
    "import os\n",
    "import psycopg2\n",
    "\n",
    "DATABASE_URL = os.popen('heroku config:get DATABASE_URL -a lineboteddie').read()[:-1]\n",
    "\n",
    "conn = psycopg2.connect(DATABASE_URL, sslmode='require')\n",
    "cursor = conn.cursor()\n",
    "\n",
    "postgres_select_query = f\"\"\"SELECT * FROM user_account\"\"\"\n",
    "\n",
    "cursor.execute(postgres_select_query)\n",
    "cursor.fetchall()\n",
    "\n"
   ]
  },
  {
   "cell_type": "code",
   "execution_count": null,
   "metadata": {},
   "outputs": [],
   "source": []
  }
 ],
 "metadata": {
  "kernelspec": {
   "display_name": "Python 3",
   "language": "python",
   "name": "python3"
  },
  "language_info": {
   "codemirror_mode": {
    "name": "ipython",
    "version": 3
   },
   "file_extension": ".py",
   "mimetype": "text/x-python",
   "name": "python",
   "nbconvert_exporter": "python",
   "pygments_lexer": "ipython3",
   "version": "3.8.5"
  }
 },
 "nbformat": 4,
 "nbformat_minor": 4
}
