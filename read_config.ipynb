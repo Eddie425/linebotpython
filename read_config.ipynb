{
 "cells": [
  {
   "cell_type": "code",
   "execution_count": 21,
   "metadata": {},
   "outputs": [
    {
     "name": "stdout",
     "output_type": "stream",
     "text": [
      "<Section: line-bot>\t: channel_access_token\t: 9avKOw7GijsNNXTwd3HcaD5cxa80jjkWue+YrDR8m7f9tmf7e2JjmOPyRwTrT7tkYjbzio0KjOM1ocHGgR2JHFZYxEAxN1wHRRcrxIo1iaWax7FONdhJDsu3lzrWZtZKZ5M23MJ/kgUqoLtLvKh/zgdB04t89/1O/w1cDnyilFU=\n",
      "<Section: line-bot>\t: channel_secret\t: 514dc4daa432d2c264ed0ab85ad62b73\n"
     ]
    }
   ],
   "source": [
    "import configparser\n",
    "\n",
    "config = configparser.ConfigParser()\n",
    "config.read('config.ini')\n",
    "\n",
    "for i in config.sections():\n",
    "            for j in config[i]:\n",
    "                print(f'{config[i]}\\t: {j}\\t: {config.get(i, j)}')"
   ]
  },
  {
   "cell_type": "code",
   "execution_count": null,
   "metadata": {},
   "outputs": [],
   "source": []
  }
 ],
 "metadata": {
  "kernelspec": {
   "display_name": "Python 3",
   "language": "python",
   "name": "python3"
  },
  "language_info": {
   "codemirror_mode": {
    "name": "ipython",
    "version": 3
   },
   "file_extension": ".py",
   "mimetype": "text/x-python",
   "name": "python",
   "nbconvert_exporter": "python",
   "pygments_lexer": "ipython3",
   "version": "3.8.5"
  }
 },
 "nbformat": 4,
 "nbformat_minor": 4
}
