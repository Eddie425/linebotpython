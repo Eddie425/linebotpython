{
 "cells": [
  {
   "cell_type": "code",
   "execution_count": 11,
   "metadata": {},
   "outputs": [
    {
     "name": "stdout",
     "output_type": "stream",
     "text": [
      "q=snowboarding&client=safari&rls=en&sxsrf=ALeKk01ryoyoGLV9sCEPiJCrb3P8PdI9jQ:1596973648058&source=lnms&tbm=isch&sa=X&ved=2ahUKEwij_oe4ho7rAhUGrZQKHWirA58Q_AUoAXoECBoQAw&biw=1792&bih=1032\n"
     ]
    }
   ],
   "source": [
    "import urllib\n",
    "\n",
    "url = \"https://www.google.com/\"\n",
    "headers = {'User-Agent':'Mozilla/5.0 (Windows NT 10.0; Win64; x64) AppleWebKit/537.36 (KHTML, like Gecko) Chrome/76.0.3809.132 Safari/537.36'}  \n",
    "\n",
    "req = urllib.request.Request(url, headers = headers)\n",
    "conn = urllib.request.urlopen(req)\n",
    "\n",
    "search_url = \"https://www.google.com/search?q=snowboarding&client=safari&rls=en&sxsrf=ALeKk01ryoyoGLV9sCEPiJCrb3P8PdI9jQ:1596973648058&source=lnms&tbm=isch&sa=X&ved=2ahUKEwij_oe4ho7rAhUGrZQKHWirA58Q_AUoAXoECBoQAw&biw=1792&bih=1032\"\n",
    "        \n",
    "    \n",
    "u = urllib.parse.urlparse(search_url)\n",
    "print(urllib.parse.parse_qs(u[4]))\n",
    "# print(search_url.split('&'))\n",
    "\n",
    "\n",
    "\n",
    "data = conn.read()\n",
    "# print(search_url)"
   ]
  },
  {
   "cell_type": "code",
   "execution_count": null,
   "metadata": {},
   "outputs": [],
   "source": []
  }
 ],
 "metadata": {
  "kernelspec": {
   "display_name": "Python 3",
   "language": "python",
   "name": "python3"
  },
  "language_info": {
   "codemirror_mode": {
    "name": "ipython",
    "version": 3
   },
   "file_extension": ".py",
   "mimetype": "text/x-python",
   "name": "python",
   "nbconvert_exporter": "python",
   "pygments_lexer": "ipython3",
   "version": "3.8.5"
  }
 },
 "nbformat": 4,
 "nbformat_minor": 4
}
